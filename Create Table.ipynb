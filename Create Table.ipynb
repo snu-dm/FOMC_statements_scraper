{
 "cells": [
  {
   "cell_type": "code",
   "execution_count": 2,
   "metadata": {},
   "outputs": [],
   "source": [
    "import pandas as pd\n",
    "from sqlalchemy import create_engine, select, delete, insert, update\n",
    "\n",
    "import config\n",
    "from schemas import stocks, minutes, metadata\n",
    "\n",
    "#Create Engine\n",
    "engine = create_engine(f'postgresql://{config.user}:{config.pw}@{config.host}:{config.port}/{config.db}')\n",
    "\n",
    "#Make connection\n",
    "con = engine.connect()\n",
    "\n",
    "# ------------------------------------------------------------------------------------------------------------------- #\n",
    "#                                                    Creating Table                                                   #\n",
    "# ------------------------------------------------------------------------------------------------------------------- #\n",
    "metadata.create_all(bind=engine)"
   ]
  }
 ],
 "metadata": {
  "kernelspec": {
   "display_name": "Python 3 (ipykernel)",
   "language": "python",
   "name": "python3"
  },
  "language_info": {
   "codemirror_mode": {
    "name": "ipython",
    "version": 3
   },
   "file_extension": ".py",
   "mimetype": "text/x-python",
   "name": "python",
   "nbconvert_exporter": "python",
   "pygments_lexer": "ipython3",
   "version": "3.8.5"
  }
 },
 "nbformat": 4,
 "nbformat_minor": 4
}
