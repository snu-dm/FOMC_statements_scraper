{
 "cells": [
  {
   "cell_type": "markdown",
   "metadata": {},
   "source": [
    "Minio Trial \n",
    "\n",
    "* Console: http://147.46.94.186:43883/login\n",
    "* API Endpoint: 147.46.94.186:9000"
   ]
  },
  {
   "cell_type": "code",
   "execution_count": 1,
   "metadata": {},
   "outputs": [],
   "source": [
    "from minio import Minio\n",
    "from minio.error import S3Error\n",
    "import os\n",
    "import argparse\n",
    "import config\n",
    "\n",
    "import os"
   ]
  },
  {
   "cell_type": "code",
   "execution_count": 45,
   "metadata": {},
   "outputs": [],
   "source": [
    "ACCESS_KEY = config.user\n",
    "SECRET_KEY = config.pw\n",
    "endpoint='147.46.94.186:9000'\n",
    "\n",
    "client = Minio(\n",
    "    endpoint,\n",
    "    access_key=ACCESS_KEY,\n",
    "    secret_key=SECRET_KEY, secure=False\n",
    ")"
   ]
  },
  {
   "cell_type": "code",
   "execution_count": 47,
   "metadata": {},
   "outputs": [
    {
     "data": {
      "text/plain": [
       "True"
      ]
     },
     "execution_count": 47,
     "metadata": {},
     "output_type": "execute_result"
    }
   ],
   "source": [
    "root_bucket_name = 'monetary-policy'\n",
    "client.bucket_exists(root_bucket_name)"
   ]
  },
  {
   "cell_type": "code",
   "execution_count": 51,
   "metadata": {},
   "outputs": [
    {
     "data": {
      "text/plain": [
       "<minio.helpers.ObjectWriteResult at 0x1e22e992bb0>"
      ]
     },
     "execution_count": 51,
     "metadata": {},
     "output_type": "execute_result"
    }
   ],
   "source": [
    "bucket_name = 'monetary-policy'\n",
    "minio_object_name = 'FOMC/TempYear/dataframe.parquet'\n",
    "local_object_filepath = './dataframe.parquet'\n",
    "\n",
    "client.fput_object(\n",
    "    bucket_name, minio_object_name, local_object_filepath,\n",
    ")"
   ]
  }
 ],
 "metadata": {
  "kernelspec": {
   "display_name": "Python 3 (ipykernel)",
   "language": "python",
   "name": "python3"
  },
  "language_info": {
   "codemirror_mode": {
    "name": "ipython",
    "version": 3
   },
   "file_extension": ".py",
   "mimetype": "text/x-python",
   "name": "python",
   "nbconvert_exporter": "python",
   "pygments_lexer": "ipython3",
   "version": "3.8.5"
  }
 },
 "nbformat": 4,
 "nbformat_minor": 4
}
