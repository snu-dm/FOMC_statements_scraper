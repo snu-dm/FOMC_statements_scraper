{
 "cells": [
  {
   "cell_type": "markdown",
   "metadata": {},
   "source": [
    "Dates Trial"
   ]
  },
  {
   "cell_type": "code",
   "execution_count": 86,
   "metadata": {},
   "outputs": [
    {
     "data": {
      "text/plain": [
       "(datetime.datetime(2012, 7, 31, 0, 0), datetime.datetime(2012, 8, 1, 0, 0))"
      ]
     },
     "execution_count": 86,
     "metadata": {},
     "output_type": "execute_result"
    }
   ],
   "source": [
    "import pandas as pd\n",
    "from sqlalchemy import create_engine, select, delete, insert, update\n",
    "import config\n",
    "\n",
    "import dateutil.parser\n",
    "import os\n",
    "from glob import glob\n",
    "from tqdm import tqdm\n",
    "def extract_begin_end_dates(date_range):\n",
    "    if '-' not in date_range:\n",
    "        # 'July 30, 2012'\n",
    "        return dateutil.parser.parse(date_range), dateutil.parser.parse(date_range)\n",
    "    else:\n",
    "        date_range = date_range.replace(',', '')\n",
    "        try: # 'July 30-31, 2012'\n",
    "            month, dates, year = date_range.split(' ')\n",
    "            dates = dates.split('-')\n",
    "            begin_date = dateutil.parser.parse(' '.join([dates[0], month, year]))\n",
    "            end_date = dateutil.parser.parse(' '.join([dates[1], month, year]))\n",
    "        except: # 'July 31-August 1, 2012'\n",
    "            date_range = date_range.replace('-', ' ')\n",
    "            begin_date_month, bigin_date_date, end_date_month, end_date_date, year = date_range.split(' ')\n",
    "            begin_date = dateutil.parser.parse(' '.join([bigin_date_date, begin_date_month, year]))\n",
    "            end_date = dateutil.parser.parse(' '.join([end_date_date, end_date_month, year]))\n",
    "            \n",
    "        # April/May 30-1, 2013\n",
    "        # Jan/Feb 31-1, 2017\n",
    "        # Oct/Nov 31-1, 2017\n",
    "        # Jul/Aug 31-1, 2018\n",
    "        # April/May 30-1, 2019\n",
    "        return begin_date, end_date\n",
    "\n",
    "date='July 31-August 1, 2012'\n",
    "extract_begin_end_dates(date)"
   ]
  },
  {
   "cell_type": "code",
   "execution_count": 85,
   "metadata": {},
   "outputs": [
    {
     "data": {
      "text/plain": [
       "['July', '31', 'August', '1', '2012']"
      ]
     },
     "execution_count": 85,
     "metadata": {},
     "output_type": "execute_result"
    }
   ],
   "source": [
    "date_range='July 31-August 1, 2012'\n",
    "date_range = date_range.replace(',', '')\n",
    "# month, days, year = date_range.split(' ')\n",
    "\n",
    "date_range = date_range.replace('-', ' ')\n",
    "# days.split('-')\n",
    "date_range.split(' ')"
   ]
  },
  {
   "cell_type": "code",
   "execution_count": 77,
   "metadata": {},
   "outputs": [
    {
     "data": {
      "text/plain": [
       "'July 31-August 1 2012'"
      ]
     },
     "execution_count": 77,
     "metadata": {},
     "output_type": "execute_result"
    }
   ],
   "source": [
    "date_range.replace(',', '')"
   ]
  },
  {
   "cell_type": "markdown",
   "metadata": {},
   "source": [
    "Minio Trial \n",
    "\n",
    "http://147.46.94.186:40911/login"
   ]
  },
  {
   "cell_type": "code",
   "execution_count": 38,
   "metadata": {},
   "outputs": [],
   "source": [
    "from minio import Minio\n",
    "from minio.error import S3Error\n",
    "import os\n",
    "import argparse\n",
    "import config\n",
    "\n",
    "import os"
   ]
  },
  {
   "cell_type": "code",
   "execution_count": 61,
   "metadata": {},
   "outputs": [
    {
     "name": "stdout",
     "output_type": "stream",
     "text": [
      "Unexpected exception formatting exception. Falling back to standard exception\n"
     ]
    },
    {
     "name": "stderr",
     "output_type": "stream",
     "text": [
      "Traceback (most recent call last):\n",
      "  File \"C:\\Users\\Jihye Park\\anaconda3\\lib\\site-packages\\urllib3\\connectionpool.py\", line 670, in urlopen\n",
      "    httplib_response = self._make_request(\n",
      "  File \"C:\\Users\\Jihye Park\\anaconda3\\lib\\site-packages\\urllib3\\connectionpool.py\", line 381, in _make_request\n",
      "    self._validate_conn(conn)\n",
      "  File \"C:\\Users\\Jihye Park\\anaconda3\\lib\\site-packages\\urllib3\\connectionpool.py\", line 978, in _validate_conn\n",
      "    conn.connect()\n",
      "  File \"C:\\Users\\Jihye Park\\anaconda3\\lib\\site-packages\\urllib3\\connection.py\", line 362, in connect\n",
      "    self.sock = ssl_wrap_socket(\n",
      "  File \"C:\\Users\\Jihye Park\\anaconda3\\lib\\site-packages\\urllib3\\util\\ssl_.py\", line 399, in ssl_wrap_socket\n",
      "    return context.wrap_socket(sock)\n",
      "  File \"C:\\Users\\Jihye Park\\anaconda3\\lib\\ssl.py\", line 500, in wrap_socket\n",
      "    return self.sslsocket_class._create(\n",
      "  File \"C:\\Users\\Jihye Park\\anaconda3\\lib\\ssl.py\", line 1040, in _create\n",
      "    self.do_handshake()\n",
      "  File \"C:\\Users\\Jihye Park\\anaconda3\\lib\\ssl.py\", line 1309, in do_handshake\n",
      "    self._sslobj.do_handshake()\n",
      "ssl.SSLError: [SSL: WRONG_VERSION_NUMBER] wrong version number (_ssl.c:1123)\n",
      "\n",
      "During handling of the above exception, another exception occurred:\n",
      "\n",
      "Traceback (most recent call last):\n",
      "  File \"C:\\Users\\Jihye Park\\anaconda3\\lib\\site-packages\\IPython\\core\\interactiveshell.py\", line 3378, in run_code\n",
      "    exec(code_obj, self.user_global_ns, self.user_ns)\n",
      "  File \"C:\\Users\\Jihye Park\\AppData\\Local\\Temp\\ipykernel_20732\\3297403618.py\", line 37, in <module>\n",
      "    if not client.bucket_exists(bucket_name):\n",
      "  File \"C:\\Users\\Jihye Park\\anaconda3\\lib\\site-packages\\minio\\api.py\", line 661, in bucket_exists\n",
      "    self._execute(\"HEAD\", bucket_name)\n",
      "  File \"C:\\Users\\Jihye Park\\anaconda3\\lib\\site-packages\\minio\\api.py\", line 403, in _execute\n",
      "    region = self._get_region(bucket_name, None)\n",
      "  File \"C:\\Users\\Jihye Park\\anaconda3\\lib\\site-packages\\minio\\api.py\", line 470, in _get_region\n",
      "    response = self._url_open(\n",
      "  File \"C:\\Users\\Jihye Park\\anaconda3\\lib\\site-packages\\minio\\api.py\", line 269, in _url_open\n",
      "    response = self._http.urlopen(\n",
      "  File \"C:\\Users\\Jihye Park\\anaconda3\\lib\\site-packages\\urllib3\\poolmanager.py\", line 336, in urlopen\n",
      "    response = conn.urlopen(method, u.request_uri, **kw)\n",
      "  File \"C:\\Users\\Jihye Park\\anaconda3\\lib\\site-packages\\urllib3\\connectionpool.py\", line 754, in urlopen\n",
      "    return self.urlopen(\n",
      "  File \"C:\\Users\\Jihye Park\\anaconda3\\lib\\site-packages\\urllib3\\connectionpool.py\", line 754, in urlopen\n",
      "    return self.urlopen(\n",
      "  File \"C:\\Users\\Jihye Park\\anaconda3\\lib\\site-packages\\urllib3\\connectionpool.py\", line 754, in urlopen\n",
      "    return self.urlopen(\n",
      "  [Previous line repeated 2 more times]\n",
      "  File \"C:\\Users\\Jihye Park\\anaconda3\\lib\\site-packages\\urllib3\\connectionpool.py\", line 726, in urlopen\n",
      "    retries = retries.increment(\n",
      "  File \"C:\\Users\\Jihye Park\\anaconda3\\lib\\site-packages\\urllib3\\util\\retry.py\", line 446, in increment\n",
      "    raise MaxRetryError(_pool, url, error or ResponseError(cause))\n",
      "urllib3.exceptions.MaxRetryError: HTTPSConnectionPool(host='147.46.94.186', port=40911): Max retries exceeded with url: /disclosures?location= (Caused by SSLError(SSLError(1, '[SSL: WRONG_VERSION_NUMBER] wrong version number (_ssl.c:1123)')))\n",
      "\n",
      "During handling of the above exception, another exception occurred:\n",
      "\n",
      "Traceback (most recent call last):\n",
      "  File \"C:\\Users\\Jihye Park\\anaconda3\\lib\\site-packages\\IPython\\core\\interactiveshell.py\", line 1997, in showtraceback\n",
      "    stb = self.InteractiveTB.structured_traceback(\n",
      "  File \"C:\\Users\\Jihye Park\\anaconda3\\lib\\site-packages\\IPython\\core\\ultratb.py\", line 1112, in structured_traceback\n",
      "    return FormattedTB.structured_traceback(\n",
      "  File \"C:\\Users\\Jihye Park\\anaconda3\\lib\\site-packages\\IPython\\core\\ultratb.py\", line 1006, in structured_traceback\n",
      "    return VerboseTB.structured_traceback(\n",
      "  File \"C:\\Users\\Jihye Park\\anaconda3\\lib\\site-packages\\IPython\\core\\ultratb.py\", line 859, in structured_traceback\n",
      "    formatted_exception = self.format_exception_as_a_whole(etype, evalue, etb, number_of_lines_of_context,\n",
      "  File \"C:\\Users\\Jihye Park\\anaconda3\\lib\\site-packages\\IPython\\core\\ultratb.py\", line 793, in format_exception_as_a_whole\n",
      "    self.get_records(etb, number_of_lines_of_context, tb_offset) if etb else []\n",
      "  File \"C:\\Users\\Jihye Park\\anaconda3\\lib\\site-packages\\IPython\\core\\ultratb.py\", line 848, in get_records\n",
      "    return list(stack_data.FrameInfo.stack_data(etb, options=options))[tb_offset:]\n",
      "  File \"C:\\Users\\Jihye Park\\anaconda3\\lib\\site-packages\\stack_data\\core.py\", line 597, in stack_data\n",
      "    yield from collapse_repeated(\n",
      "  File \"C:\\Users\\Jihye Park\\anaconda3\\lib\\site-packages\\stack_data\\utils.py\", line 84, in collapse_repeated\n",
      "    yield from map(mapper, original_group)\n",
      "  File \"C:\\Users\\Jihye Park\\anaconda3\\lib\\site-packages\\stack_data\\core.py\", line 587, in mapper\n",
      "    return cls(f, options)\n",
      "  File \"C:\\Users\\Jihye Park\\anaconda3\\lib\\site-packages\\stack_data\\core.py\", line 551, in __init__\n",
      "    self.executing = Source.executing(frame_or_tb)\n",
      "  File \"C:\\Users\\Jihye Park\\anaconda3\\lib\\site-packages\\executing\\executing.py\", line 328, in executing\n",
      "    source = cls.for_frame(frame)\n",
      "  File \"C:\\Users\\Jihye Park\\anaconda3\\lib\\site-packages\\executing\\executing.py\", line 250, in for_frame\n",
      "    return cls.for_filename(frame.f_code.co_filename, frame.f_globals or {}, use_cache)\n",
      "  File \"C:\\Users\\Jihye Park\\anaconda3\\lib\\site-packages\\executing\\executing.py\", line 278, in for_filename\n",
      "    return cls._for_filename_and_lines(filename, lines)\n",
      "  File \"C:\\Users\\Jihye Park\\anaconda3\\lib\\site-packages\\executing\\executing.py\", line 288, in _for_filename_and_lines\n",
      "    result = source_cache[(filename, lines)] = cls(filename, lines)\n",
      "  File \"C:\\Users\\Jihye Park\\anaconda3\\lib\\site-packages\\stack_data\\core.py\", line 97, in __init__\n",
      "    self.asttokens()\n",
      "  File \"C:\\Users\\Jihye Park\\anaconda3\\lib\\site-packages\\executing\\executing.py\", line 392, in asttokens\n",
      "    return ASTTokens(\n",
      "  File \"C:\\Users\\Jihye Park\\anaconda3\\lib\\site-packages\\asttokens\\asttokens.py\", line 61, in __init__\n",
      "    source_text = six.ensure_text(source_text)\n",
      "AttributeError: module 'six' has no attribute 'ensure_text'\n"
     ]
    }
   ],
   "source": [
    "\n",
    "# # Define arguments\n",
    "# parser = argparse.ArgumentParser(description='MinIO Data Uploader')\n",
    "# parser.add_argument('-b', '--bucket_name', type=str, default='disclosures',\n",
    "#                     help='Bucket name')\n",
    "# parser.add_argument('-fn', '--file_name', type=str, required=True,\n",
    "#                     help='(REQUIRED) name of the file to be uploaded')\n",
    "# parser.add_argument('-fp', '--file_path', type=str, required=True,\n",
    "#                     help='(REQUIRED) object name to be used as file path')\n",
    "\n",
    "# args = parser.parse_args()\n",
    "\n",
    "bucket_name = 'disclosures'\n",
    "file_name = './dataframe.parquet'\n",
    "file_path = '/FOMC/2022/dataframe.parquet'\n",
    "\n",
    "# Get Minio Access Info\n",
    "ACCESS_KEY = config.user\n",
    "SECRET_KEY = config.pw\n",
    "\n",
    "# Declare the endpoint\n",
    "endpoint='147.46.94.186:40911'\n",
    "# endpoint = \"snu-bdai.minio\"\n",
    "\n",
    "##########\n",
    "client = Minio(\n",
    "    endpoint,\n",
    "    access_key=ACCESS_KEY,\n",
    "    secret_key=SECRET_KEY\n",
    ")\n",
    "\n",
    "# Create bucket if it does not exist\n",
    "if not client.bucket_exists(bucket_name):\n",
    "    client.make_bucket(bucket_name)\n",
    "    print(\"Created bucket {}\".format(bucket_name))\n",
    "\n",
    "# Upload Data\n",
    "client.fput_object(\n",
    "    bucket_name, file_name, file_path,\n",
    ")\n",
    "print(f\"Uploaded {file_name} to: {file_path}\")\n",
    "\n",
    "# if __name__ == \"__main__\":\n",
    "#     try:\n",
    "#         main()\n",
    "#     except S3Error as exc:\n",
    "#         print(\"S3Error! \", exc)"
   ]
  },
  {
   "cell_type": "markdown",
   "metadata": {},
   "source": [
    "Create Table"
   ]
  },
  {
   "cell_type": "code",
   "execution_count": 87,
   "metadata": {},
   "outputs": [],
   "source": [
    "from sqlalchemy import create_engine\n",
    "import config\n",
    "\n",
    "#Create Engine\n",
    "engine = create_engine(f'postgresql://{config.user}:{config.pw}@{config.host}:{config.port}/{config.db}')\n",
    "\n",
    "metadata.create_all(bind=engine)"
   ]
  }
 ],
 "metadata": {
  "kernelspec": {
   "display_name": "Python 3 (ipykernel)",
   "language": "python",
   "name": "python3"
  },
  "language_info": {
   "codemirror_mode": {
    "name": "ipython",
    "version": 3
   },
   "file_extension": ".py",
   "mimetype": "text/x-python",
   "name": "python",
   "nbconvert_exporter": "python",
   "pygments_lexer": "ipython3",
   "version": "3.8.5"
  }
 },
 "nbformat": 4,
 "nbformat_minor": 4
}
