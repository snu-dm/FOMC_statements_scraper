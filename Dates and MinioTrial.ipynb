{
 "cells": [
  {
   "cell_type": "markdown",
   "metadata": {},
   "source": [
    "Dates Trial"
   ]
  },
  {
   "cell_type": "code",
   "execution_count": 48,
   "metadata": {},
   "outputs": [
    {
     "name": "stdout",
     "output_type": "stream",
     "text": [
      "2012-07-31 00:00:00\n",
      "2012-08-01 00:00:00\n"
     ]
    }
   ],
   "source": [
    "import pandas as pd\n",
    "from sqlalchemy import create_engine, select, delete, insert, update\n",
    "import config\n",
    "\n",
    "import dateutil.parser\n",
    "import os\n",
    "from glob import glob\n",
    "from tqdm import tqdm\n",
    "\n",
    "def extract_begin_end_dates(date_range):\n",
    "    if '-' not in date_range:\n",
    "        # 'July 30, 2012'\n",
    "        return dateutil.parser.parse(date_range), dateutil.parser.parse(date_range)\n",
    "    else:\n",
    "        date_range = date_range.replace(',', '')\n",
    "        try: # 'July 30-31, 2012'\n",
    "            month, dates, year = date_range.split(' ')\n",
    "            dates = dates.split('-')\n",
    "            begin_date = dateutil.parser.parse(' '.join([dates[0], month, year]))\n",
    "            end_date = dateutil.parser.parse(' '.join([dates[1], month, year]))\n",
    "        except: # 'July 31-August 1, 2012'\n",
    "            date_range = date_range.replace('-', ' ')\n",
    "            begin_date_month, bigin_date_date, end_date_month, end_date_date, year = date_range.split(' ')\n",
    "            begin_date = dateutil.parser.parse(' '.join([bigin_date_date, begin_date_month, year]))\n",
    "            end_date = dateutil.parser.parse(' '.join([end_date_date, end_date_month, year]))\n",
    "            \n",
    "        # April/May 30-1, 2013\n",
    "        # Jan/Feb 31-1, 2017\n",
    "        # Oct/Nov 31-1, 2017\n",
    "        # Jul/Aug 31-1, 2018\n",
    "        # April/May 30-1, 2019\n",
    "        return begin_date, end_date\n",
    "\n",
    "date = 'April/May 30-1, 2019'\n",
    "\n",
    "b, e = extract_begin_end_dates(date)\n",
    "print(b)\n",
    "print(e)"
   ]
  },
  {
   "cell_type": "code",
   "execution_count": 85,
   "metadata": {},
   "outputs": [
    {
     "data": {
      "text/plain": [
       "['July', '31', 'August', '1', '2012']"
      ]
     },
     "execution_count": 85,
     "metadata": {},
     "output_type": "execute_result"
    }
   ],
   "source": [
    "date_range='July 31-August 1, 2012'\n",
    "date_range = date_range.replace(',', '')\n",
    "# month, days, year = date_range.split(' ')\n",
    "\n",
    "date_range = date_range.replace('-', ' ')\n",
    "# days.split('-')\n",
    "date_range.split(' ')"
   ]
  },
  {
   "cell_type": "code",
   "execution_count": 77,
   "metadata": {},
   "outputs": [
    {
     "data": {
      "text/plain": [
       "'July 31-August 1 2012'"
      ]
     },
     "execution_count": 77,
     "metadata": {},
     "output_type": "execute_result"
    }
   ],
   "source": [
    "date_range.replace(',', '')"
   ]
  },
  {
   "cell_type": "code",
   "execution_count": 40,
   "metadata": {},
   "outputs": [
    {
     "name": "stdout",
     "output_type": "stream",
     "text": [
      "['April', 'May', '30', '1', '2013']\n"
     ]
    },
    {
     "data": {
      "text/plain": [
       "'April 30-May 1, 2013'"
      ]
     },
     "execution_count": 40,
     "metadata": {},
     "output_type": "execute_result"
    }
   ],
   "source": [
    "string = 'April/May 30-1, 2013'\n",
    "\n",
    "begin_month, end_month, begin_date, end_date, year = string.replace(',', '').replace('-', ' ').replace('/', ' ').split(' ')\n",
    "new = f'{begin_month} {begin_date}-{end_month} {end_date}, {year}'"
   ]
  },
  {
   "cell_type": "code",
   "execution_count": 53,
   "metadata": {},
   "outputs": [
    {
     "name": "stdout",
     "output_type": "stream",
     "text": [
      "2012-07-30 00:00:00\n",
      "2012-07-30 00:00:00\n",
      "--------------------------------------------------\n",
      "2012-07-30 00:00:00\n",
      "2012-07-31 00:00:00\n",
      "--------------------------------------------------\n",
      "2012-07-31 00:00:00\n",
      "2012-08-01 00:00:00\n",
      "--------------------------------------------------\n",
      "2013-04-30 00:00:00\n",
      "2013-05-01 00:00:00\n",
      "--------------------------------------------------\n"
     ]
    }
   ],
   "source": [
    "from daterangeparser import parse\n",
    "\n",
    "def extract_begin_end_dates(date_range):\n",
    "    if '-' not in date_range: # 'July 30, 2012'\n",
    "        parsed, _ = parse(date_range)\n",
    "        return parsed, parsed\n",
    "    \n",
    "    elif '/' in date_range: # 'April/May 30-1, 2013'\n",
    "        begin_month, end_month, begin_date, end_date, year = date_range.replace(',', '').replace('-', ' ').replace('/', ' ').split(' ')\n",
    "        date_range = f'{begin_month} {begin_date}-{end_month} {end_date}, {year}'\n",
    "        return parse(date_range)\n",
    "        \n",
    "    else: # 'July 30-31, 2012', 'July 31-August 1, 2012'\n",
    "        return parse(date_range)\n",
    "\n",
    "for string in ['July 30, 2012', 'July 30-31, 2012', 'July 31-August 1, 2012', 'April/May 30-1, 2013']:\n",
    "    start, end = extract_begin_end_dates(string)\n",
    "    print(start)\n",
    "    print(end)\n",
    "    print('-'*50)"
   ]
  },
  {
   "cell_type": "markdown",
   "metadata": {},
   "source": [
    "Minio Trial \n",
    "\n",
    "http://147.46.94.186:40911/login"
   ]
  },
  {
   "cell_type": "code",
   "execution_count": 38,
   "metadata": {},
   "outputs": [],
   "source": [
    "from minio import Minio\n",
    "from minio.error import S3Error\n",
    "import os\n",
    "import argparse\n",
    "import config\n",
    "\n",
    "import os"
   ]
  },
  {
   "cell_type": "code",
   "execution_count": 90,
   "metadata": {},
   "outputs": [
    {
     "name": "stdout",
     "output_type": "stream",
     "text": [
      "Unexpected exception formatting exception. Falling back to standard exception\n"
     ]
    },
    {
     "name": "stderr",
     "output_type": "stream",
     "text": [
      "Traceback (most recent call last):\n",
      "  File \"C:\\Users\\Jihye Park\\anaconda3\\lib\\site-packages\\urllib3\\connection.py\", line 159, in _new_conn\n",
      "    conn = connection.create_connection(\n",
      "  File \"C:\\Users\\Jihye Park\\anaconda3\\lib\\site-packages\\urllib3\\util\\connection.py\", line 84, in create_connection\n",
      "    raise err\n",
      "  File \"C:\\Users\\Jihye Park\\anaconda3\\lib\\site-packages\\urllib3\\util\\connection.py\", line 74, in create_connection\n",
      "    sock.connect(sa)\n",
      "ConnectionRefusedError: [WinError 10061] 대상 컴퓨터에서 연결을 거부했으므로 연결하지 못했습니다\n",
      "\n",
      "During handling of the above exception, another exception occurred:\n",
      "\n",
      "Traceback (most recent call last):\n",
      "  File \"C:\\Users\\Jihye Park\\anaconda3\\lib\\site-packages\\urllib3\\connectionpool.py\", line 670, in urlopen\n",
      "    httplib_response = self._make_request(\n",
      "  File \"C:\\Users\\Jihye Park\\anaconda3\\lib\\site-packages\\urllib3\\connectionpool.py\", line 392, in _make_request\n",
      "    conn.request(method, url, **httplib_request_kw)\n",
      "  File \"C:\\Users\\Jihye Park\\anaconda3\\lib\\http\\client.py\", line 1255, in request\n",
      "    self._send_request(method, url, body, headers, encode_chunked)\n",
      "  File \"C:\\Users\\Jihye Park\\anaconda3\\lib\\http\\client.py\", line 1301, in _send_request\n",
      "    self.endheaders(body, encode_chunked=encode_chunked)\n",
      "  File \"C:\\Users\\Jihye Park\\anaconda3\\lib\\http\\client.py\", line 1250, in endheaders\n",
      "    self._send_output(message_body, encode_chunked=encode_chunked)\n",
      "  File \"C:\\Users\\Jihye Park\\anaconda3\\lib\\http\\client.py\", line 1010, in _send_output\n",
      "    self.send(msg)\n",
      "  File \"C:\\Users\\Jihye Park\\anaconda3\\lib\\http\\client.py\", line 950, in send\n",
      "    self.connect()\n",
      "  File \"C:\\Users\\Jihye Park\\anaconda3\\lib\\site-packages\\urllib3\\connection.py\", line 187, in connect\n",
      "    conn = self._new_conn()\n",
      "  File \"C:\\Users\\Jihye Park\\anaconda3\\lib\\site-packages\\urllib3\\connection.py\", line 171, in _new_conn\n",
      "    raise NewConnectionError(\n",
      "urllib3.exceptions.NewConnectionError: <urllib3.connection.HTTPConnection object at 0x000002460ADE0B20>: Failed to establish a new connection: [WinError 10061] 대상 컴퓨터에서 연결을 거부했으므로 연결하지 못했습니다\n",
      "\n",
      "During handling of the above exception, another exception occurred:\n",
      "\n",
      "Traceback (most recent call last):\n",
      "  File \"C:\\Users\\Jihye Park\\anaconda3\\lib\\site-packages\\IPython\\core\\interactiveshell.py\", line 3378, in run_code\n",
      "    exec(code_obj, self.user_global_ns, self.user_ns)\n",
      "  File \"C:\\Users\\Jihye Park\\AppData\\Local\\Temp\\ipykernel_20732\\2097364933.py\", line 32, in <module>\n",
      "    if not client.bucket_exists(bucket_name):\n",
      "  File \"C:\\Users\\Jihye Park\\anaconda3\\lib\\site-packages\\minio\\api.py\", line 661, in bucket_exists\n",
      "    self._execute(\"HEAD\", bucket_name)\n",
      "  File \"C:\\Users\\Jihye Park\\anaconda3\\lib\\site-packages\\minio\\api.py\", line 403, in _execute\n",
      "    region = self._get_region(bucket_name, None)\n",
      "  File \"C:\\Users\\Jihye Park\\anaconda3\\lib\\site-packages\\minio\\api.py\", line 470, in _get_region\n",
      "    response = self._url_open(\n",
      "  File \"C:\\Users\\Jihye Park\\anaconda3\\lib\\site-packages\\minio\\api.py\", line 269, in _url_open\n",
      "    response = self._http.urlopen(\n",
      "  File \"C:\\Users\\Jihye Park\\anaconda3\\lib\\site-packages\\urllib3\\poolmanager.py\", line 336, in urlopen\n",
      "    response = conn.urlopen(method, u.request_uri, **kw)\n",
      "  File \"C:\\Users\\Jihye Park\\anaconda3\\lib\\site-packages\\urllib3\\connectionpool.py\", line 754, in urlopen\n",
      "    return self.urlopen(\n",
      "  File \"C:\\Users\\Jihye Park\\anaconda3\\lib\\site-packages\\urllib3\\connectionpool.py\", line 754, in urlopen\n",
      "    return self.urlopen(\n",
      "  File \"C:\\Users\\Jihye Park\\anaconda3\\lib\\site-packages\\urllib3\\connectionpool.py\", line 754, in urlopen\n",
      "    return self.urlopen(\n",
      "  [Previous line repeated 2 more times]\n",
      "  File \"C:\\Users\\Jihye Park\\anaconda3\\lib\\site-packages\\urllib3\\connectionpool.py\", line 726, in urlopen\n",
      "    retries = retries.increment(\n",
      "  File \"C:\\Users\\Jihye Park\\anaconda3\\lib\\site-packages\\urllib3\\util\\retry.py\", line 446, in increment\n",
      "    raise MaxRetryError(_pool, url, error or ResponseError(cause))\n",
      "urllib3.exceptions.MaxRetryError: HTTPConnectionPool(host='147.46.94.186', port=9090): Max retries exceeded with url: /disclosures?location= (Caused by NewConnectionError('<urllib3.connection.HTTPConnection object at 0x000002460ADE0B20>: Failed to establish a new connection: [WinError 10061] 대상 컴퓨터에서 연결을 거부했으므로 연결하지 못했습니다'))\n",
      "\n",
      "During handling of the above exception, another exception occurred:\n",
      "\n",
      "Traceback (most recent call last):\n",
      "  File \"C:\\Users\\Jihye Park\\anaconda3\\lib\\site-packages\\IPython\\core\\interactiveshell.py\", line 1997, in showtraceback\n",
      "    stb = self.InteractiveTB.structured_traceback(\n",
      "  File \"C:\\Users\\Jihye Park\\anaconda3\\lib\\site-packages\\IPython\\core\\ultratb.py\", line 1112, in structured_traceback\n",
      "    return FormattedTB.structured_traceback(\n",
      "  File \"C:\\Users\\Jihye Park\\anaconda3\\lib\\site-packages\\IPython\\core\\ultratb.py\", line 1006, in structured_traceback\n",
      "    return VerboseTB.structured_traceback(\n",
      "  File \"C:\\Users\\Jihye Park\\anaconda3\\lib\\site-packages\\IPython\\core\\ultratb.py\", line 859, in structured_traceback\n",
      "    formatted_exception = self.format_exception_as_a_whole(etype, evalue, etb, number_of_lines_of_context,\n",
      "  File \"C:\\Users\\Jihye Park\\anaconda3\\lib\\site-packages\\IPython\\core\\ultratb.py\", line 793, in format_exception_as_a_whole\n",
      "    self.get_records(etb, number_of_lines_of_context, tb_offset) if etb else []\n",
      "  File \"C:\\Users\\Jihye Park\\anaconda3\\lib\\site-packages\\IPython\\core\\ultratb.py\", line 848, in get_records\n",
      "    return list(stack_data.FrameInfo.stack_data(etb, options=options))[tb_offset:]\n",
      "  File \"C:\\Users\\Jihye Park\\anaconda3\\lib\\site-packages\\stack_data\\core.py\", line 597, in stack_data\n",
      "    yield from collapse_repeated(\n",
      "  File \"C:\\Users\\Jihye Park\\anaconda3\\lib\\site-packages\\stack_data\\utils.py\", line 84, in collapse_repeated\n",
      "    yield from map(mapper, original_group)\n",
      "  File \"C:\\Users\\Jihye Park\\anaconda3\\lib\\site-packages\\stack_data\\core.py\", line 587, in mapper\n",
      "    return cls(f, options)\n",
      "  File \"C:\\Users\\Jihye Park\\anaconda3\\lib\\site-packages\\stack_data\\core.py\", line 551, in __init__\n",
      "    self.executing = Source.executing(frame_or_tb)\n",
      "  File \"C:\\Users\\Jihye Park\\anaconda3\\lib\\site-packages\\executing\\executing.py\", line 328, in executing\n",
      "    source = cls.for_frame(frame)\n",
      "  File \"C:\\Users\\Jihye Park\\anaconda3\\lib\\site-packages\\executing\\executing.py\", line 250, in for_frame\n",
      "    return cls.for_filename(frame.f_code.co_filename, frame.f_globals or {}, use_cache)\n",
      "  File \"C:\\Users\\Jihye Park\\anaconda3\\lib\\site-packages\\executing\\executing.py\", line 278, in for_filename\n",
      "    return cls._for_filename_and_lines(filename, lines)\n",
      "  File \"C:\\Users\\Jihye Park\\anaconda3\\lib\\site-packages\\executing\\executing.py\", line 288, in _for_filename_and_lines\n",
      "    result = source_cache[(filename, lines)] = cls(filename, lines)\n",
      "  File \"C:\\Users\\Jihye Park\\anaconda3\\lib\\site-packages\\stack_data\\core.py\", line 97, in __init__\n",
      "    self.asttokens()\n",
      "  File \"C:\\Users\\Jihye Park\\anaconda3\\lib\\site-packages\\executing\\executing.py\", line 392, in asttokens\n",
      "    return ASTTokens(\n",
      "  File \"C:\\Users\\Jihye Park\\anaconda3\\lib\\site-packages\\asttokens\\asttokens.py\", line 61, in __init__\n",
      "    source_text = six.ensure_text(source_text)\n",
      "AttributeError: module 'six' has no attribute 'ensure_text'\n"
     ]
    }
   ],
   "source": [
    "\n",
    "# # Define arguments\n",
    "# parser = argparse.ArgumentParser(description='MinIO Data Uploader')\n",
    "# parser.add_argument('-b', '--bucket_name', type=str, default='disclosures',\n",
    "#                     help='Bucket name')\n",
    "# parser.add_argument('-fn', '--file_name', type=str, required=True,\n",
    "#                     help='(REQUIRED) name of the file to be uploaded')\n",
    "# parser.add_argument('-fp', '--file_path', type=str, required=True,\n",
    "#                     help='(REQUIRED) object name to be used as file path')\n",
    "\n",
    "# args = parser.parse_args()\n",
    "\n",
    "bucket_name = 'disclosures'\n",
    "file_name = './dataframe.parquet'\n",
    "file_path = '/FOMC/2022/dataframe.parquet'\n",
    "\n",
    "# Get Minio Access Info\n",
    "ACCESS_KEY = config.user\n",
    "SECRET_KEY = config.pw\n",
    "\n",
    "# Declare the endpoint\n",
    "endpoint='147.46.94.186:40911'\n",
    "# endpoint = \"snu-bdai.minio\"\n",
    "\n",
    "##########\n",
    "client = Minio(\n",
    "    endpoint,\n",
    "    access_key=ACCESS_KEY,\n",
    "    secret_key=SECRET_KEY, secure=False\n",
    ")\n",
    "\n",
    "# Create bucket if it does not exist\n",
    "if not client.bucket_exists(bucket_name):\n",
    "    client.make_bucket(bucket_name)\n",
    "    print(\"Created bucket {}\".format(bucket_name))\n",
    "\n",
    "# Upload Data\n",
    "client.fput_object(\n",
    "    bucket_name, file_name, file_path,\n",
    ")\n",
    "print(f\"Uploaded {file_name} to: {file_path}\")\n",
    "\n",
    "# if __name__ == \"__main__\":\n",
    "#     try:\n",
    "#         main()\n",
    "#     except S3Error as exc:\n",
    "#         print(\"S3Error! \", exc)"
   ]
  }
 ],
 "metadata": {
  "kernelspec": {
   "display_name": "Python [conda env:fomc]",
   "language": "python",
   "name": "conda-env-fomc-py"
  },
  "language_info": {
   "codemirror_mode": {
    "name": "ipython",
    "version": 3
   },
   "file_extension": ".py",
   "mimetype": "text/x-python",
   "name": "python",
   "nbconvert_exporter": "python",
   "pygments_lexer": "ipython3",
   "version": "3.9.16"
  }
 },
 "nbformat": 4,
 "nbformat_minor": 4
}
